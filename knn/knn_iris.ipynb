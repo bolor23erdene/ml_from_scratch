{
 "cells": [
  {
   "cell_type": "code",
   "execution_count": 13,
   "metadata": {},
   "outputs": [
    {
     "name": "stdout",
     "output_type": "stream",
     "text": [
      "     seplen  sepwid  petlen  petwid      label\n",
      "0       5.1     3.5     1.4     0.2     Setosa\n",
      "1       4.9     3.0     1.4     0.2     Setosa\n",
      "2       4.7     3.2     1.3     0.2     Setosa\n",
      "3       4.6     3.1     1.5     0.2     Setosa\n",
      "4       5.0     3.6     1.4     0.2     Setosa\n",
      "..      ...     ...     ...     ...        ...\n",
      "145     6.7     3.0     5.2     2.3  Virginica\n",
      "146     6.3     2.5     5.0     1.9  Virginica\n",
      "147     6.5     3.0     5.2     2.0  Virginica\n",
      "148     6.2     3.4     5.4     2.3  Virginica\n",
      "149     5.9     3.0     5.1     1.8  Virginica\n",
      "\n",
      "[150 rows x 5 columns]\n"
     ]
    }
   ],
   "source": [
    "import csv\n",
    "import random\n",
    "import math\n",
    "import operator\n",
    "import pandas as pd\n",
    "import numpy as np\n",
    "\n",
    "\n",
    "#data loading option 1\n",
    "#with open('iris.data', 'rb') as csvfile:\n",
    "#    lines = csv.reader(csvfile)\n",
    "#    for row in lines:\n",
    "#        print (', '.join(row))\n",
    "#or\n",
    "#data loading option 2\n",
    "def loadData() :\n",
    "    # 0 setosa\t1 versicolor 2 virginica\n",
    "    data = pd.read_csv('iris.csv')\n",
    "    data.columns = ['seplen', 'sepwid', 'petlen', 'petwid', 'label']\n",
    "    return data        \n",
    "        \n",
    "print(loadData())\n",
    "#print('Accuracy: %.3f%%' % (correct / len(knn.valData)))"
   ]
  },
  {
   "cell_type": "code",
   "execution_count": 14,
   "metadata": {},
   "outputs": [],
   "source": [
    "data = loadData()"
   ]
  },
  {
   "cell_type": "code",
   "execution_count": 15,
   "metadata": {},
   "outputs": [
    {
     "data": {
      "text/plain": [
       "{'Versicolor': 0, 'Virginica': 1, 'Setosa': 2}"
      ]
     },
     "execution_count": 15,
     "metadata": {},
     "output_type": "execute_result"
    }
   ],
   "source": [
    "labels = set(data['label'])\n",
    "labels\n",
    "dic = {}\n",
    "cnt = 0 \n",
    "for label in labels:\n",
    "    dic[label] = cnt\n",
    "    cnt = cnt + 1\n",
    "dic"
   ]
  },
  {
   "cell_type": "code",
   "execution_count": 16,
   "metadata": {},
   "outputs": [],
   "source": [
    "for i in range(data.shape[0]):\n",
    "    data['label'].iloc[i] = dic[data['label'].iloc[i]]"
   ]
  },
  {
   "cell_type": "code",
   "execution_count": 17,
   "metadata": {},
   "outputs": [
    {
     "name": "stdout",
     "output_type": "stream",
     "text": [
      "     seplen  sepwid  petlen  petwid  label\n",
      "0       5.1     3.5     1.4     0.2      2\n",
      "1       4.9     3.0     1.4     0.2      2\n",
      "2       4.7     3.2     1.3     0.2      2\n",
      "3       4.6     3.1     1.5     0.2      2\n",
      "4       5.0     3.6     1.4     0.2      2\n",
      "..      ...     ...     ...     ...    ...\n",
      "145     6.7     3.0     5.2     2.3      1\n",
      "146     6.3     2.5     5.0     1.9      1\n",
      "147     6.5     3.0     5.2     2.0      1\n",
      "148     6.2     3.4     5.4     2.3      1\n",
      "149     5.9     3.0     5.1     1.8      1\n",
      "\n",
      "[150 rows x 5 columns]\n"
     ]
    }
   ],
   "source": [
    "print(data)"
   ]
  },
  {
   "cell_type": "code",
   "execution_count": 20,
   "metadata": {},
   "outputs": [],
   "source": [
    "def scale(data):\n",
    "    for i in range(4):\n",
    "        maximum = np.max(data[data.columns[i]])\n",
    "        minimum = np.min(data[data.columns[i]])\n",
    "        print(maximum,minimum)"
   ]
  },
  {
   "cell_type": "code",
   "execution_count": 21,
   "metadata": {},
   "outputs": [
    {
     "name": "stdout",
     "output_type": "stream",
     "text": [
      "7.9 4.3\n",
      "4.4 2.0\n",
      "6.9 1.0\n",
      "2.5 0.1\n"
     ]
    }
   ],
   "source": [
    "scale(data)"
   ]
  },
  {
   "cell_type": "code",
   "execution_count": null,
   "metadata": {},
   "outputs": [],
   "source": []
  }
 ],
 "metadata": {
  "kernelspec": {
   "display_name": "Python 3",
   "language": "python",
   "name": "python3"
  },
  "language_info": {
   "codemirror_mode": {
    "name": "ipython",
    "version": 3
   },
   "file_extension": ".py",
   "mimetype": "text/x-python",
   "name": "python",
   "nbconvert_exporter": "python",
   "pygments_lexer": "ipython3",
   "version": "3.7.4"
  }
 },
 "nbformat": 4,
 "nbformat_minor": 2
}
